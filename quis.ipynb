{
  "nbformat": 4,
  "nbformat_minor": 0,
  "metadata": {
    "colab": {
      "provenance": [],
      "authorship_tag": "ABX9TyPYPmMl7lbOkoVQAx2cwcKj",
      "include_colab_link": true
    },
    "kernelspec": {
      "name": "python3",
      "display_name": "Python 3"
    },
    "language_info": {
      "name": "python"
    }
  },
  "cells": [
    {
      "cell_type": "markdown",
      "metadata": {
        "id": "view-in-github",
        "colab_type": "text"
      },
      "source": [
        "<a href=\"https://colab.research.google.com/github/Airukua/backpro/blob/main/quis.ipynb\" target=\"_parent\"><img src=\"https://colab.research.google.com/assets/colab-badge.svg\" alt=\"Open In Colab\"/></a>"
      ]
    },
    {
      "cell_type": "markdown",
      "source": [
        "NOMOR 1\n",
        "\n",
        "nomor 1 dikerjakan sendiri supaya belajar oke :). kalo buat semua nanti ilmunya ga masuk angap saja latihan"
      ],
      "metadata": {
        "id": "whDUDZ3yFjRW"
      }
    },
    {
      "cell_type": "markdown",
      "source": [
        "NOMOR 2\n",
        "\n",
        "\n",
        "\n",
        "\n",
        "apa maksud dari penulisan >>> 2+3j ?\n",
        "Penulisan 2+3j pada program Python mengindikasikan bilangan kompleks dengan bagian real 2 dan bagian imajiner 3. Dalam bilangan kompleks, i atau j (dalam bahasa Python) digunakan untuk menyatakan bagian imajiner. Contohnya, 3j merepresentasikan bilangan kompleks dengan bagian imajiner 3 dan bagian real 0.\n",
        "\n",
        "Dalam contoh 2+3j, 2 adalah bagian real dari bilangan kompleks dan 3j adalah bagian imajiner. Kita dapat melakukan berbagai operasi matematika pada bilangan kompleks, seperti penjumlahan, pengurangan, perkalian, pembagian, atau konjugasi. Contohnya, 2+3j ditambah 4+2j akan menghasilkan bilangan kompleks 6+5j."
      ],
      "metadata": {
        "id": "Nti8m2fpGkaq"
      }
    },
    {
      "cell_type": "markdown",
      "source": [
        "NOMOR 3 \n",
        "\n",
        "```\n",
        ">>>s=\"Hai ...\" #Apa kabar ?\n",
        "```\n",
        "Pada program Python, tanda pagar (#) digunakan untuk menandakan komentar, yang tidak akan dieksekusi oleh program. Oleh karena itu, pada kode s=\"Hai ...\" dan #Apa kabar ?, hanya s=\"Hai ...\" yang akan dieksekusi dan menghasilkan variabel s dengan nilai \"Hai ...\". Sedangkan #Apa kabar ? hanya merupakan komentar yang tidak akan menghasilkan output apa pun.\n",
        "\n",
        "Jadi, output dari kode tersebut hanya variabel s dengan nilai \"Hai ...\".\n"
      ],
      "metadata": {
        "id": "8GR2aDEpGtM9"
      }
    },
    {
      "cell_type": "code",
      "source": [
        "s =\"Hai...\" #Apa kabar ?\n",
        "#seng ada output karena cuma variabel deng komen"
      ],
      "metadata": {
        "id": "LWa56uRkHSCR"
      },
      "execution_count": 7,
      "outputs": []
    },
    {
      "cell_type": "markdown",
      "source": [
        "NOMOR 4\n",
        "\n",
        "```\n",
        "4^3\n",
        "```\n",
        "Dalam Python, operator ^ tidak digunakan untuk perpangkatan seperti pada matematika. Operator ^ pada Python sebenarnya digunakan untuk operasi bitwise XOR (exclusive OR).\n",
        "\n",
        "Output dari kode tersebut adalah 7, karena operasi 4 ^ 3 dilakukan secara bitwise XOR antara angka biner 4 (100) dan angka biner 3 (011), sehingga menghasilkan angka biner 7 (111).\n"
      ],
      "metadata": {
        "id": "Z_gXWwl6IUTd"
      }
    },
    {
      "cell_type": "code",
      "source": [
        "print(4^3)"
      ],
      "metadata": {
        "colab": {
          "base_uri": "https://localhost:8080/"
        },
        "id": "_7EREtMdII_6",
        "outputId": "3107861e-b6a2-42a9-bd65-71b17acea68b"
      },
      "execution_count": 9,
      "outputs": [
        {
          "output_type": "stream",
          "name": "stdout",
          "text": [
            "7\n"
          ]
        }
      ]
    },
    {
      "cell_type": "markdown",
      "source": [
        "NOMOR 5\n",
        "\n",
        "jawabnnya adalah bisa berikut contohnya\n",
        "\n",
        "```\n",
        "x = 5; y = 10\n",
        "print(x+y)\n",
        "\n",
        "```\n",
        "Dalam contoh ini, pernyataan pertama x = 5 dan pernyataan kedua y = 10 dipisahkan oleh tanda titik koma (;) dalam satu baris kode. Kemudian, kita dapat menggunakan kedua variabel tersebut pada pernyataan ketiga print(x+y) untuk menambahkan nilai variabel x dan y, dan menghasilkan output 15.\n",
        "\n",
        "Perlu diingat bahwa meskipun memungkinkan untuk menuliskan beberapa pernyataan dalam satu baris, hal ini dapat membuat kode sulit dibaca dan dipahami. Oleh karena itu, disarankan untuk memisahkan pernyataan menjadi beberapa baris yang lebih mudah dibaca dan dipahami.\n",
        "\n",
        "\n"
      ],
      "metadata": {
        "id": "kqX7JmPsJr9X"
      }
    },
    {
      "cell_type": "code",
      "source": [
        "x = 5; y = 10 #2 pernyataan dalam satu baris\n",
        "print(x+y)"
      ],
      "metadata": {
        "colab": {
          "base_uri": "https://localhost:8080/"
        },
        "id": "vgHKR3SzJkha",
        "outputId": "c92a164b-ddcb-41e3-be52-c0159b2b9c61"
      },
      "execution_count": 11,
      "outputs": [
        {
          "output_type": "stream",
          "name": "stdout",
          "text": [
            "15\n"
          ]
        }
      ]
    },
    {
      "cell_type": "markdown",
      "source": [
        "NOMOR 6\n",
        "\n",
        "hasil dari \n",
        "\n",
        "```\n",
        "7%2\n",
        "```\n",
        "ini artinya sisa bagi atau modulo jadi 7 dibagi 2 sisanya barapa ya 1\n"
      ],
      "metadata": {
        "id": "67D1rEkWKKG6"
      }
    },
    {
      "cell_type": "code",
      "source": [
        "print(7%2) #hasilnya"
      ],
      "metadata": {
        "colab": {
          "base_uri": "https://localhost:8080/"
        },
        "id": "n7sdLsMtKkxn",
        "outputId": "d6ef8b37-6d22-40c1-e1b9-a819b50d7f5b"
      },
      "execution_count": 12,
      "outputs": [
        {
          "output_type": "stream",
          "name": "stdout",
          "text": [
            "1\n"
          ]
        }
      ]
    },
    {
      "cell_type": "markdown",
      "source": [
        "NOMOR 7\n",
        "\n",
        "Kondisi (x >= \"a\") and (x <= \"t\") akan menghasilkan nilai False karena variabel x memiliki nilai string yang dimulai dengan karakter \"U\", dan karakter \"U\" memiliki nilai ASCII yang lebih besar daripada karakter \"t\".\n",
        "\n",
        "Pada kondisi tersebut, Python membandingkan nilai ASCII dari karakter pertama pada string x dengan nilai ASCII karakter \"a\" dan \"t\". Karena nilai ASCII karakter \"U\" lebih besar daripada \"t\", maka kondisi tersebut menghasilkan nilai False."
      ],
      "metadata": {
        "id": "x9Pj5-WpK-2n"
      }
    },
    {
      "cell_type": "code",
      "source": [
        "x = \"Universitas n\\ Dipa n\\ Makassar\"\n",
        "(x >= \"a\") and (x <= \"t\")"
      ],
      "metadata": {
        "colab": {
          "base_uri": "https://localhost:8080/"
        },
        "id": "KJLxB_WtK-PR",
        "outputId": "775a2795-8028-4a61-d6ad-207339b91b83"
      },
      "execution_count": 24,
      "outputs": [
        {
          "output_type": "execute_result",
          "data": {
            "text/plain": [
              "False"
            ]
          },
          "metadata": {},
          "execution_count": 24
        }
      ]
    }
  ]
}